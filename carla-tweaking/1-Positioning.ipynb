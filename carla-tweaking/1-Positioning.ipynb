{
 "cells": [
  {
   "cell_type": "code",
   "execution_count": 1,
   "metadata": {},
   "outputs": [],
   "source": [
    "import carla"
   ]
  },
  {
   "cell_type": "code",
   "execution_count": 2,
   "metadata": {},
   "outputs": [],
   "source": [
    "# Create a client that will connect to the CARLA server running at localhost on port 2000\n",
    "client = carla.Client('localhost', 2000)\n",
    "\n",
    "# Get the world object (the simulation environment) from the client\n",
    "world = client.get_world()\n",
    "\n",
    "# Get all possible spawn points in the world\n",
    "spawn_points = world.get_map().get_spawn_points()\n",
    "\n",
    "# Get the blueprint for a firetruck from the world's blueprint library\n",
    "vehicle_bp = world.get_blueprint_library().filter(\"firetruck*\")\n",
    "\n",
    "# Select the first spawn point from the list of spawn points\n",
    "start_point = spawn_points[0]\n",
    "\n",
    "# Try to spawn a firetruck at the first spawn point\n",
    "vehicle = world.try_spawn_actor(vehicle_bp[0], start_point)"
   ]
  },
  {
   "cell_type": "code",
   "execution_count": 3,
   "metadata": {},
   "outputs": [
    {
     "name": "stdout",
     "output_type": "stream",
     "text": [
      "<class 'carla.libcarla.Vehicle'>\n"
     ]
    }
   ],
   "source": [
    "print(type(vehicle))"
   ]
  },
  {
   "cell_type": "code",
   "execution_count": 4,
   "metadata": {},
   "outputs": [
    {
     "name": "stdout",
     "output_type": "stream",
     "text": [
      "Transform(Location(x=-64.644844, y=24.471010, z=0.580205), Rotation(pitch=0.000000, yaw=0.159198, roll=0.000000))\n"
     ]
    }
   ],
   "source": [
    "# get the car's position on the map\n",
    "vehicle_pos = vehicle.get_transform()\n",
    "print(vehicle_pos)"
   ]
  },
  {
   "cell_type": "code",
   "execution_count": 5,
   "metadata": {},
   "outputs": [],
   "source": [
    "# send the vehicle off\n",
    "vehicle.set_autopilot(True)"
   ]
  },
  {
   "cell_type": "code",
   "execution_count": 6,
   "metadata": {},
   "outputs": [
    {
     "name": "stdout",
     "output_type": "stream",
     "text": [
      "Transform(Location(x=-63.826649, y=24.397814, z=-0.003055), Rotation(pitch=0.148133, yaw=-1.305939, roll=0.113880))\n"
     ]
    }
   ],
   "source": [
    "# get the actual position from the car moving\n",
    "vehicle_pos = vehicle.get_transform()\n",
    "print(vehicle_pos)"
   ]
  },
  {
   "cell_type": "code",
   "execution_count": 7,
   "metadata": {},
   "outputs": [],
   "source": [
    "# now look at the map\n",
    "town_map = world.get_map()"
   ]
  },
  {
   "cell_type": "code",
   "execution_count": 8,
   "metadata": {},
   "outputs": [
    {
     "data": {
      "text/plain": [
       "carla.libcarla.Map"
      ]
     },
     "execution_count": 8,
     "metadata": {},
     "output_type": "execute_result"
    }
   ],
   "source": [
    "type(town_map)"
   ]
  },
  {
   "cell_type": "markdown",
   "metadata": {},
   "source": [
    "In CARLA, the `get_topology()` method of a `Map` object returns a list of pairs of `Waypoint` objects. Each pair represents a road segment, where the first `Waypoint` is the beginning of the road segment and the second `Waypoint` is the end of the road segment.\n",
    "\n",
    "So, if `roads = town_map.get_topology()`, then `roads` is a list of tuples, where each tuple contains two `Waypoint` objects representing a road segment in the map.\n",
    "\n",
    "Here's an example of what a single item in `roads` might look like:\n",
    "\n",
    "```python\n",
    "\n",
    "(Waypoint(x=2.5, y=3.5, z=0.0, pitch=0.0, yaw=180.0, roll=0.0, id=1, road_id=1, section_id=1, lane_id=1, s=0.0, transform=Transform(Location(x=2.5, y=3.5, z=0.0), Rotation(pitch=0.0, yaw=180.0, roll=0.0)), lane_type=LaneType.Driving, lane_change=LaneChange.Both, lane_width=3.5, right_lane_marking=LaneMarking(type=White, color=White, lane_change=Both), left_lane_marking=LaneMarking(type=White, color=White, lane_change=Both)),\n",
    "\n",
    " Waypoint(x=2.5, y=4.5, z=0.0, pitch=0.0, yaw=180.0, roll=0.0, id=2, road_id=1, section_id=1, lane_id=1, s=1.0, transform=Transform(Location(x=2.5, y=4.5, z=0.0), Rotation(pitch=0.0, yaw=180.0, roll=0.0)), lane_type=LaneType.Driving, lane_change=LaneChange.Both, lane_width=3.5, right_lane_marking=LaneMarking(type=White, color=White, lane_change=Both), left_lane_marking=LaneMarking(type=White, color=White, lane_change=Both)))\n",
    " ```\n",
    " \n",
    "\n",
    "\n",
    "In this example, the first `Waypoint` represents a point on the road at `(x=2.5, y=3.5, z=0.0)`, and the second `Waypoint` represents a point on the same road one meter ahead at `(x=2.5, y=4.5, z=0.0)`."
   ]
  },
  {
   "cell_type": "code",
   "execution_count": 9,
   "metadata": {},
   "outputs": [
    {
     "name": "stdout",
     "output_type": "stream",
     "text": [
      "Waypoint(Transform(Location(x=109.929878, y=-9.334196, z=0.000000), Rotation(pitch=0.000000, yaw=-89.609253, roll=0.000000)))\n"
     ]
    }
   ],
   "source": [
    "roads = town_map.get_topology()\n",
    "print(roads[0][0])"
   ]
  },
  {
   "cell_type": "code",
   "execution_count": 10,
   "metadata": {},
   "outputs": [
    {
     "data": {
      "text/plain": [
       "200"
      ]
     },
     "execution_count": 10,
     "metadata": {},
     "output_type": "execute_result"
    }
   ],
   "source": [
    "len(roads) # -> there are 200 road segments in the current town map of the simulation"
   ]
  },
  {
   "cell_type": "code",
   "execution_count": 25,
   "metadata": {},
   "outputs": [],
   "source": [
    "# import some code coming with the simulator\n",
    "import sys\n",
    "import time\n",
    "sys.path.append('C:/CARLA/PythonAPI/carla')\n",
    "from agents.navigation.global_route_planner import GlobalRoutePlanner"
   ]
  },
  {
   "cell_type": "code",
   "execution_count": 26,
   "metadata": {},
   "outputs": [],
   "source": [
    "# using the code to plan a route and then draw it in the simulator\n",
    "town10hd_map = world.get_map()\n",
    "\n",
    "sampling_resolution = 2\n",
    "\n",
    "grp = GlobalRoutePlanner(town_map, sampling_resolution)\n",
    "\n",
    "# define the two ending points of the route\n",
    "point_a = carla.Location(x = -64.644844, y = 24.471010, z = 0.600000)\n",
    "point_b = carla.Location(x = -113.903656, y = 14.422489, z = -0.003719)\n",
    "\n",
    "route = grp.trace_route(point_a, point_b) # create the route to map from point a to point b\n",
    "\n",
    "for waypoint in route:\n",
    "    world.debug.draw_string(waypoint[0].transform.location, '^', draw_shadow = False, color = carla.Color(r = 0, g = 0, b = 255), life_time = 230.0, persistent_lines = True)"
   ]
  },
  {
   "cell_type": "code",
   "execution_count": 27,
   "metadata": {},
   "outputs": [],
   "source": [
    "# utility script of destruction\n",
    "\n",
    "for actor in world.get_actors().filter(\"*vehicle*\"):\n",
    "    actor.destroy()\n",
    "for sensor in world.get_actors().filter(\"*sensor*\"):\n",
    "    sensor.destroy()"
   ]
  },
  {
   "cell_type": "code",
   "execution_count": 30,
   "metadata": {},
   "outputs": [],
   "source": [
    "# now we define 2 cars\n",
    "truck_bp = world.get_blueprint_library().filter(\"*firetruck*\")\n",
    "mini_bp = world.get_blueprint_library().filter(\"*cooper_s*\")\n",
    "\n",
    "# start the first car in already define start point\n",
    "truck = world.try_spawn_actor(truck_bp[0], start_point)"
   ]
  },
  {
   "cell_type": "code",
   "execution_count": 31,
   "metadata": {},
   "outputs": [],
   "source": [
    "# tweak the spectator position to watch the show\n",
    "\n",
    "spectator = world.get_spectator() # get the spectator object\n",
    "spawn_points = world.get_map().get_spawn_points() # get all spawn points\n",
    "start_point = spawn_points[0] # select the first spawn point\n",
    "\n",
    "spectator_pos = carla.Transform(start_point.location + carla.Location(x=20,y=10,z=4),\n",
    "                                carla.Rotation(yaw = start_point.rotation.yaw -155)) # define the new spectator position\n",
    "\n",
    "spectator.set_transform(spectator_pos)  # move the spectator to the new position"
   ]
  },
  {
   "cell_type": "code",
   "execution_count": 32,
   "metadata": {},
   "outputs": [],
   "source": [
    "# drop the minicooper from the sky to see what happends\n",
    "\n",
    "# spawn it from somewhere\n",
    "mini = world.try_spawn_actor(mini_bp[0], spawn_points[10]) # spawn the mini cooper at spawn point 10\n",
    "\n",
    "mini_pos = carla.Transform(start_point.location + carla.Location(x=-4,z=10),\n",
    "                            carla.Rotation(yaw = start_point.rotation.yaw - 0)) # define the new spectator position\n",
    "\n",
    "mini.set_transform(mini_pos)    # move the mini cooper to the new position"
   ]
  },
  {
   "cell_type": "code",
   "execution_count": 35,
   "metadata": {},
   "outputs": [],
   "source": [
    "# utility script of destruction\n",
    "\n",
    "for actor in world.get_actors().filter(\"*vehicle*\"):\n",
    "    actor.destroy()\n",
    "for sensor in world.get_actors().filter(\"*sensor*\"):\n",
    "    sensor.destroy()"
   ]
  },
  {
   "cell_type": "code",
   "execution_count": 36,
   "metadata": {},
   "outputs": [],
   "source": [
    "import time\n",
    "\n",
    "# redefine 2 cars\n",
    "truck_bp = world.get_blueprint_library().filter(\"*firetruck*\")\n",
    "mini_bp = world.get_blueprint_library().filter(\"*cooper_s*\")\n",
    "\n",
    "# start the first car in already define start point\n",
    "truck = world.try_spawn_actor(truck_bp[0], start_point)\n",
    "time.sleep(3) # wait 3 seconds\n",
    "\n",
    "vw_bp = world.get_blueprint_library().filter(\"*volkswagen*\")\n",
    "\n",
    "vw = world.try_spawn_actor(vw_bp[0], spawn_points[20]) # spawn the volkswagen at spawn point 20\n",
    "vw_pos = carla.Transform(start_point.location + carla.Location(x=1,z=6),\n",
    "                            carla.Rotation(yaw = start_point.rotation.yaw - 0)) # define the new spectator position\n",
    "vw.set_transform(vw_pos)    # move the volkswagen to the new position\n",
    "\n",
    "\n",
    "mini = world.try_spawn_actor(mini_bp[0], spawn_points[10]) # spawn the mini cooper at spawn point 10\n",
    "mini_pos = carla.Transform(start_point.location + carla.Location(x=1,z=10),\n",
    "                            carla.Rotation(yaw = start_point.rotation.yaw - 0)) # define the new spectator position\n",
    "mini.set_transform(mini_pos)   # move the mini cooper to the new position"
   ]
  },
  {
   "cell_type": "code",
   "execution_count": null,
   "metadata": {},
   "outputs": [],
   "source": []
  }
 ],
 "metadata": {
  "kernelspec": {
   "display_name": "Python 3 (ipykernel)",
   "language": "python",
   "name": "python3"
  },
  "language_info": {
   "codemirror_mode": {
    "name": "ipython",
    "version": 3
   },
   "file_extension": ".py",
   "mimetype": "text/x-python",
   "name": "python",
   "nbconvert_exporter": "python",
   "pygments_lexer": "ipython3",
   "version": "3.7.16"
  }
 },
 "nbformat": 4,
 "nbformat_minor": 2
}
